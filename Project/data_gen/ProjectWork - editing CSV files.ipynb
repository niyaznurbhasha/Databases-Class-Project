{
 "cells": [
  {
   "cell_type": "code",
   "execution_count": 1,
   "metadata": {},
   "outputs": [],
   "source": [
    "import csv\n",
    "import pandas as pd\n",
    "import random\n",
    "from datetime import timedelta, date"
   ]
  },
  {
   "cell_type": "code",
   "execution_count": 2,
   "metadata": {},
   "outputs": [],
   "source": [
    "users = pd.read_csv(\"Users(1).csv\")\n",
    "S = pd.DataFrame.copy(users)\n",
    "userCreds = pd.read_csv(\"UserCreds.csv\")\n",
    "R = pd.DataFrame.copy(userCreds)\n",
    "userInterests = pd.read_csv(\"UserInterests.csv\")"
   ]
  },
  {
   "cell_type": "code",
   "execution_count": 9,
   "metadata": {},
   "outputs": [
    {
     "name": "stdout",
     "output_type": "stream",
     "text": [
      "10000\n"
     ]
    }
   ],
   "source": [
    "#create the first email list\n",
    "list1 = []\n",
    "set1 = {\"aahdiasd\"}\n",
    "x = S['Email'] != \"\"\n",
    "emails = S[x]\n",
    "for i in range(len(emails)):\n",
    "    if emails.iloc[i][0] != \"\":\n",
    "        list1.append(emails.iloc[i][0])\n",
    "        set1.add(emails.iloc[i][0])\n",
    "        \n",
    "#create a list of the hashes\n",
    "list2 = []\n",
    "y = R['hash'] != \"\"\n",
    "hashlist = R[y]\n",
    "for i in range(len(hashlist)):\n",
    "    if hashlist.iloc[i][1] != \"\":\n",
    "        list2.append(hashlist.iloc[i][1])\n",
    "     \n",
    "\n",
    "#create a list of interests\n",
    "list3 = [\"Human Rights\", \"Animals\", \"Arts and Crafts\", \"Youth\", \"Technology\", \"Politics\"]\n",
    "list4 = [\"Education\", \"Health\", \"Seniors\", \"Disaster Relief\", \"Environment\", \"Women\"]\n",
    "list5 = [\"Faith-based\", \"Homeless\", \"Hunger\", \"International\", \"LGBT\", \"Sports\"]\n",
    "list6 = [\"monday\", \"tuesday\", \"wednesday\", \"thursday\", \"friday\", \"saturday\", \"sunday\"]\n",
    "list8 =  [\"Human Rights\", \"Animals\", \"Arts and Crafts\", \"Youth\", \"Technology\", \"Politics\", \"Education\", \"Health\", \"Seniors\", \"Disaster Relief\", \"Environment\", \"Women\", \"Faith-based\", \"Homeless\", \"Hunger\", \"International\", \"LGBT\", \"Sports\"]\n",
    "# create a list of dates\n",
    "list7 = []\n",
    "def daterange(date1, date2):\n",
    "    for n in range(int ((date2 - date1).days)+1):\n",
    "        yield date1 + timedelta(n)\n",
    "\n",
    "start_dt = date(2017, 1, 1)\n",
    "end_dt = date(2019, 4, 15)\n",
    "for dt in daterange(start_dt, end_dt):\n",
    "    list7.append(dt.strftime(\"%Y-%m-%d\"))\n",
    "    \n",
    "set1.remove(\"aahdiasd\")\n",
    "set1.add(\"hohoho123@gmail.com\")\n",
    "set1.add(\"savageman1@gmail.com\")\n",
    "set1.add(\"ericseewald@gmail.com\")\n",
    "set1.add(\"francisseweed@gmail.com\")\n",
    "set1.add(\"hhfsf@gmail.com\")\n",
    "set1.add(\"polpol@gmail.com\")\n",
    "list9 = []\n",
    "for i in set1:\n",
    "    list9.append(i)\n",
    "print(len(list9))\n",
    "\n",
    "a = S['Name'] != \"\"\n",
    "names = S[a]\n",
    "b = S['City'] != \"\"\n",
    "cities = S[b]\n",
    "c = S['State'] != \"\"\n",
    "states = S[c]\n",
    "\n",
    "list10 = []\n",
    "list11= []\n",
    "list12 = []\n",
    "for i in range(len(names)):\n",
    "    if names.iloc[i][1] != \"\":\n",
    "        list10.append(names.iloc[i][1])\n",
    "    if cities.iloc[i][2] != \"\":\n",
    "        list11.append(cities.iloc[i][2])\n",
    "    if states.iloc[i][3] != \"\":\n",
    "        list12.append(states.iloc[i][3])\n",
    "    \n",
    "list13 = [\"Walk\", \"Foundation\", \"Charity\", \"Drive\", \"Charity Auction\", \"Social Media Fundraising\", \"Guest Speaker\"]\n"
   ]
  },
  {
   "cell_type": "code",
   "execution_count": 4,
   "metadata": {},
   "outputs": [],
   "source": [
    "with open('UserJoinsProject.csv', 'w') as UCcsvFile:\n",
    "    fieldnames=['user_email', 'pid']\n",
    "    writer=csv.DictWriter(UCcsvFile, fieldnames=fieldnames, delimiter = ',')\n",
    "    writer.writeheader()\n",
    "    for k in range(1,len(list1)):\n",
    "        userCred_dict={};\n",
    "        userCred_dict[fieldnames[0]]= random.choice(list9)\n",
    "        userCred_dict[fieldnames[1]]= k\n",
    "        writer.writerow(userCred_dict)\n",
    "\n"
   ]
  },
  {
   "cell_type": "code",
   "execution_count": 5,
   "metadata": {},
   "outputs": [],
   "source": [
    "with open('Users(1).csv', 'w') as UCcsvFile:\n",
    "    fieldnames=['Email', 'Name', 'City', 'State']\n",
    "    writer=csv.DictWriter(UCcsvFile, fieldnames=fieldnames, delimiter = ',')\n",
    "    writer.writeheader()\n",
    "    for i in range(len(list1)):\n",
    "        userCred_dict={};\n",
    "        userCred_dict[fieldnames[0]]= list9[i]\n",
    "        userCred_dict[fieldnames[1]]= list10[i]\n",
    "        userCred_dict[fieldnames[2]]= list11[i]\n",
    "        userCred_dict[fieldnames[3]]= list12[i]\n",
    "        writer.writerow(userCred_dict)"
   ]
  },
  {
   "cell_type": "code",
   "execution_count": 6,
   "metadata": {},
   "outputs": [],
   "source": [
    "with open('UserCreds.csv', 'w') as UCcsvFile:\n",
    "    fieldnames=['email', 'hash']\n",
    "    writer=csv.DictWriter(UCcsvFile, fieldnames=fieldnames, delimiter = ',')\n",
    "    writer.writeheader()\n",
    "    for i in range(len(list1)):\n",
    "        userCred_dict={};\n",
    "        userCred_dict[fieldnames[0]]= list9[i]\n",
    "        userCred_dict[fieldnames[1]]= list2[i]\n",
    "        writer.writerow(userCred_dict)"
   ]
  },
  {
   "cell_type": "code",
   "execution_count": 7,
   "metadata": {},
   "outputs": [],
   "source": [
    "with open('UserInterests.csv', 'w') as UCcsvFile:\n",
    "    fieldnames = ['email', 'interest_1', 'interest_2', 'interest_3']\n",
    "    writer=csv.DictWriter(UCcsvFile, fieldnames=fieldnames, delimiter = ',')\n",
    "    writer.writeheader()\n",
    "    for j in range(len(list1)):\n",
    "        userCred_dict={};\n",
    "        userCred_dict[fieldnames[0]]= list9[j]\n",
    "        userCred_dict[fieldnames[1]]= random.choice(list6)\n",
    "        userCred_dict[fieldnames[2]]= random.choice(list4)\n",
    "        userCred_dict[fieldnames[3]]= random.choice(list5)\n",
    "        writer.writerow(userCred_dict)\n",
    "    "
   ]
  },
  {
   "cell_type": "code",
   "execution_count": 8,
   "metadata": {},
   "outputs": [],
   "source": [
    "with open('UserTimeSlots.csv', 'w') as UCcsvFile:\n",
    "    fieldnames = ['email', 'day_of_week', 'start_time', 'end_time']\n",
    "    writer=csv.DictWriter(UCcsvFile, fieldnames=fieldnames, delimiter = ',')\n",
    "    writer.writeheader()\n",
    "    for k in range(len(list1)):\n",
    "        userCred_dict={};\n",
    "        userCred_dict[fieldnames[0]]= list9[k]\n",
    "        userCred_dict[fieldnames[1]]= random.choice(list6)\n",
    "        temp = random.randint(7,17)\n",
    "        temp2 = temp + random.randint(1,3)\n",
    "        userCred_dict[fieldnames[2]]= temp\n",
    "        userCred_dict[fieldnames[3]]= temp2\n",
    "        writer.writerow(userCred_dict)"
   ]
  },
  {
   "cell_type": "code",
   "execution_count": 11,
   "metadata": {},
   "outputs": [],
   "source": [
    "with open('Projects.csv', 'w') as UCcsvFile:\n",
    "    fieldnames = ['pid','creator_email','project_name','tag','project_date','day_of_week','start_time','end_time','curr_capacity','goal_capacity', 'city', 'state', 'description']\n",
    "    writer=csv.DictWriter(UCcsvFile, fieldnames=fieldnames, delimiter = ',')\n",
    "    writer.writeheader()\n",
    "    for k in range(1,len(list1)):\n",
    "        userCred_dict={};\n",
    "        userCred_dict[fieldnames[0]]= k\n",
    "        userCred_dict[fieldnames[1]]= random.choice(list9)\n",
    "        temp = random.randint(7,17)\n",
    "        temp2 = temp + random.randint(1,3)\n",
    "        userCred_dict[fieldnames[2]]= random.choice(list8) + \" \" + random.choice(list13)\n",
    "        userCred_dict[fieldnames[3]]= random.choice(list8)\n",
    "        userCred_dict[fieldnames[4]] = random.choice(list7)\n",
    "        userCred_dict[fieldnames[5]] = random.choice(list6)\n",
    "        userCred_dict[fieldnames[6]] = temp\n",
    "        userCred_dict[fieldnames[7]] = temp2\n",
    "        userCred_dict[fieldnames[8]] = 0\n",
    "        userCred_dict[fieldnames[9]] = random.randint(1,50)\n",
    "        userCred_dict[fieldnames[10]] = random.choice(list11)\n",
    "        userCred_dict[fieldnames[11]] = random.choice(list12)\n",
    "        userCred_dict[fieldnames[12]] = \"\"\n",
    "        writer.writerow(userCred_dict)"
   ]
  },
  {
   "cell_type": "code",
   "execution_count": null,
   "metadata": {},
   "outputs": [],
   "source": []
  }
 ],
 "metadata": {
  "kernelspec": {
   "display_name": "Python 3",
   "language": "python",
   "name": "python3"
  },
  "language_info": {
   "codemirror_mode": {
    "name": "ipython",
    "version": 3
   },
   "file_extension": ".py",
   "mimetype": "text/x-python",
   "name": "python",
   "nbconvert_exporter": "python",
   "pygments_lexer": "ipython3",
   "version": "3.5.2"
  }
 },
 "nbformat": 4,
 "nbformat_minor": 2
}
